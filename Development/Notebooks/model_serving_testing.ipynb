{
 "cells": [
  {
   "cell_type": "code",
   "execution_count": 22,
   "metadata": {},
   "outputs": [],
   "source": [
    "import joblib\n",
    "import pandas as pd\n",
    "import numpy as np\n",
    "import json\n",
    "from rdkit.Chem import MolFromSmiles\n",
    "from rdkit.Chem import MACCSkeys"
   ]
  },
  {
   "cell_type": "code",
   "execution_count": 85,
   "metadata": {},
   "outputs": [],
   "source": [
    "from rdkit.Chem import MolFromSmiles\n",
    "from rdkit.Chem import MACCSkeys"
   ]
  },
  {
   "cell_type": "code",
   "execution_count": 109,
   "metadata": {},
   "outputs": [],
   "source": [
    "from smiles_to_maccs import smiles_maccs"
   ]
  },
  {
   "cell_type": "code",
   "execution_count": 4,
   "metadata": {},
   "outputs": [],
   "source": [
    "from sklearn.metrics import balanced_accuracy_score"
   ]
  },
  {
   "cell_type": "code",
   "execution_count": 4,
   "metadata": {},
   "outputs": [],
   "source": [
    "rf_bal_best_save_reloaded = joblib.load( \"best_rf_bal_model.pkl\")"
   ]
  },
  {
   "cell_type": "code",
   "execution_count": 7,
   "metadata": {},
   "outputs": [],
   "source": [
    "testX= pd.read_csv('testX.csv')\n",
    "testy= pd.read_csv('testy.csv')\n"
   ]
  },
  {
   "cell_type": "code",
   "execution_count": 10,
   "metadata": {},
   "outputs": [],
   "source": [
    "testX= testX.set_index('casrn')\n",
    "testy= testy.set_index('casrn')"
   ]
  },
  {
   "cell_type": "code",
   "execution_count": 11,
   "metadata": {},
   "outputs": [
    {
     "data": {
      "text/plain": [
       "array([ True,  True,  True,  True,  True, False,  True, False,  True,\n",
       "       False, False,  True,  True,  True,  True, False,  True,  True,\n",
       "        True,  True,  True, False, False,  True,  True,  True, False,\n",
       "        True,  True,  True,  True,  True, False,  True,  True,  True,\n",
       "        True,  True,  True,  True, False, False, False,  True,  True,\n",
       "        True,  True, False,  True,  True,  True, False, False,  True,\n",
       "       False,  True,  True,  True,  True, False,  True,  True, False,\n",
       "        True,  True, False, False, False, False,  True,  True])"
      ]
     },
     "execution_count": 11,
     "metadata": {},
     "output_type": "execute_result"
    }
   ],
   "source": [
    "rf_bal_best_save_reloaded.predict(np.array(testX))"
   ]
  },
  {
   "cell_type": "code",
   "execution_count": 15,
   "metadata": {},
   "outputs": [
    {
     "name": "stdout",
     "output_type": "stream",
     "text": [
      "0.8992914979757085\n"
     ]
    }
   ],
   "source": [
    "print(balanced_accuracy_score(np.array(testy), rf_bal_best_save_reloaded.predict(np.array(testX))))"
   ]
  },
  {
   "cell_type": "markdown",
   "metadata": {},
   "source": [
    "Test maccs generation method"
   ]
  },
  {
   "cell_type": "code",
   "execution_count": 5,
   "metadata": {},
   "outputs": [],
   "source": [
    "# read SMILES files with maccs mapping\n",
    "ames_maccs_smiles= pd.read_csv('ames_maccs_smiles_df.csv')"
   ]
  },
  {
   "cell_type": "code",
   "execution_count": 7,
   "metadata": {},
   "outputs": [
    {
     "data": {
      "text/plain": [
       "'O=[N+]([O-])c1ccc(Cl)cc1'"
      ]
     },
     "execution_count": 7,
     "metadata": {},
     "output_type": "execute_result"
    }
   ],
   "source": [
    "ames_maccs_smiles.Smiles[0]"
   ]
  },
  {
   "cell_type": "code",
   "execution_count": 137,
   "metadata": {},
   "outputs": [],
   "source": [
    "ames_smiles_maccs_list= [smiles_maccs.smiles_maccs(smiles_input= smile_inst) for smile_inst in ames_maccs_smiles.Smiles]"
   ]
  },
  {
   "cell_type": "code",
   "execution_count": 138,
   "metadata": {},
   "outputs": [
    {
     "data": {
      "text/html": [
       "<div>\n",
       "<style scoped>\n",
       "    .dataframe tbody tr th:only-of-type {\n",
       "        vertical-align: middle;\n",
       "    }\n",
       "\n",
       "    .dataframe tbody tr th {\n",
       "        vertical-align: top;\n",
       "    }\n",
       "\n",
       "    .dataframe thead th {\n",
       "        text-align: right;\n",
       "    }\n",
       "</style>\n",
       "<table border=\"1\" class=\"dataframe\">\n",
       "  <thead>\n",
       "    <tr style=\"text-align: right;\">\n",
       "      <th></th>\n",
       "      <th>0</th>\n",
       "    </tr>\n",
       "  </thead>\n",
       "  <tbody>\n",
       "    <tr>\n",
       "      <th>0</th>\n",
       "      <td>{\"maccs_0\":0,\"maccs_1\":0,\"maccs_2\":0,\"maccs_3\"...</td>\n",
       "    </tr>\n",
       "    <tr>\n",
       "      <th>1</th>\n",
       "      <td>{\"maccs_0\":0,\"maccs_1\":0,\"maccs_2\":0,\"maccs_3\"...</td>\n",
       "    </tr>\n",
       "    <tr>\n",
       "      <th>2</th>\n",
       "      <td>{\"maccs_0\":0,\"maccs_1\":0,\"maccs_2\":0,\"maccs_3\"...</td>\n",
       "    </tr>\n",
       "    <tr>\n",
       "      <th>3</th>\n",
       "      <td>{\"maccs_0\":0,\"maccs_1\":0,\"maccs_2\":0,\"maccs_3\"...</td>\n",
       "    </tr>\n",
       "    <tr>\n",
       "      <th>4</th>\n",
       "      <td>{\"maccs_0\":0,\"maccs_1\":0,\"maccs_2\":0,\"maccs_3\"...</td>\n",
       "    </tr>\n",
       "    <tr>\n",
       "      <th>...</th>\n",
       "      <td>...</td>\n",
       "    </tr>\n",
       "    <tr>\n",
       "      <th>699</th>\n",
       "      <td>{\"maccs_0\":0,\"maccs_1\":0,\"maccs_2\":0,\"maccs_3\"...</td>\n",
       "    </tr>\n",
       "    <tr>\n",
       "      <th>700</th>\n",
       "      <td>{\"maccs_0\":0,\"maccs_1\":0,\"maccs_2\":0,\"maccs_3\"...</td>\n",
       "    </tr>\n",
       "    <tr>\n",
       "      <th>701</th>\n",
       "      <td>{\"maccs_0\":0,\"maccs_1\":0,\"maccs_2\":0,\"maccs_3\"...</td>\n",
       "    </tr>\n",
       "    <tr>\n",
       "      <th>702</th>\n",
       "      <td>{\"maccs_0\":0,\"maccs_1\":0,\"maccs_2\":0,\"maccs_3\"...</td>\n",
       "    </tr>\n",
       "    <tr>\n",
       "      <th>703</th>\n",
       "      <td>{\"maccs_0\":0,\"maccs_1\":0,\"maccs_2\":0,\"maccs_3\"...</td>\n",
       "    </tr>\n",
       "  </tbody>\n",
       "</table>\n",
       "<p>704 rows × 1 columns</p>\n",
       "</div>"
      ],
      "text/plain": [
       "                                                     0\n",
       "0    {\"maccs_0\":0,\"maccs_1\":0,\"maccs_2\":0,\"maccs_3\"...\n",
       "1    {\"maccs_0\":0,\"maccs_1\":0,\"maccs_2\":0,\"maccs_3\"...\n",
       "2    {\"maccs_0\":0,\"maccs_1\":0,\"maccs_2\":0,\"maccs_3\"...\n",
       "3    {\"maccs_0\":0,\"maccs_1\":0,\"maccs_2\":0,\"maccs_3\"...\n",
       "4    {\"maccs_0\":0,\"maccs_1\":0,\"maccs_2\":0,\"maccs_3\"...\n",
       "..                                                 ...\n",
       "699  {\"maccs_0\":0,\"maccs_1\":0,\"maccs_2\":0,\"maccs_3\"...\n",
       "700  {\"maccs_0\":0,\"maccs_1\":0,\"maccs_2\":0,\"maccs_3\"...\n",
       "701  {\"maccs_0\":0,\"maccs_1\":0,\"maccs_2\":0,\"maccs_3\"...\n",
       "702  {\"maccs_0\":0,\"maccs_1\":0,\"maccs_2\":0,\"maccs_3\"...\n",
       "703  {\"maccs_0\":0,\"maccs_1\":0,\"maccs_2\":0,\"maccs_3\"...\n",
       "\n",
       "[704 rows x 1 columns]"
      ]
     },
     "execution_count": 138,
     "metadata": {},
     "output_type": "execute_result"
    }
   ],
   "source": [
    "pd.DataFrame(ames_smiles_maccs_list)"
   ]
  },
  {
   "cell_type": "code",
   "execution_count": 110,
   "metadata": {},
   "outputs": [],
   "source": [
    "smile_test_maccs= smiles_maccs.smiles_maccs(smiles_input= ames_maccs_smiles.Smiles[0])"
   ]
  },
  {
   "cell_type": "code",
   "execution_count": 111,
   "metadata": {},
   "outputs": [
    {
     "data": {
      "text/plain": [
       "'{\"maccs_0\":0,\"maccs_1\":0,\"maccs_2\":0,\"maccs_3\":0,\"maccs_4\":0,\"maccs_5\":0,\"maccs_6\":0,\"maccs_7\":0,\"maccs_8\":0,\"maccs_9\":0,\"maccs_10\":0,\"maccs_11\":0,\"maccs_12\":0,\"maccs_13\":0,\"maccs_14\":0,\"maccs_15\":0,\"maccs_16\":0,\"maccs_17\":0,\"maccs_18\":0,\"maccs_19\":0,\"maccs_20\":0,\"maccs_21\":0,\"maccs_22\":0,\"maccs_23\":0,\"maccs_24\":1,\"maccs_25\":0,\"maccs_26\":0,\"maccs_27\":0,\"maccs_28\":0,\"maccs_29\":0,\"maccs_30\":0,\"maccs_31\":0,\"maccs_32\":0,\"maccs_33\":0,\"maccs_34\":0,\"maccs_35\":0,\"maccs_36\":0,\"maccs_37\":0,\"maccs_38\":0,\"maccs_39\":0,\"maccs_40\":0,\"maccs_41\":0,\"maccs_42\":0,\"maccs_43\":0,\"maccs_44\":0,\"maccs_45\":0,\"maccs_46\":0,\"maccs_47\":0,\"maccs_48\":0,\"maccs_49\":1,\"maccs_50\":0,\"maccs_51\":0,\"maccs_52\":0,\"maccs_53\":0,\"maccs_54\":0,\"maccs_55\":0,\"maccs_56\":1,\"maccs_57\":0,\"maccs_58\":0,\"maccs_59\":0,\"maccs_60\":0,\"maccs_61\":0,\"maccs_62\":0,\"maccs_63\":1,\"maccs_64\":0,\"maccs_65\":0,\"maccs_66\":0,\"maccs_67\":0,\"maccs_68\":0,\"maccs_69\":0,\"maccs_70\":1,\"maccs_71\":1,\"maccs_72\":0,\"maccs_73\":0,\"maccs_74\":0,\"maccs_75\":0,\"maccs_76\":0,\"maccs_77\":0,\"maccs_78\":0,\"maccs_79\":0,\"maccs_80\":0,\"maccs_81\":0,\"maccs_82\":0,\"maccs_83\":0,\"maccs_84\":0,\"maccs_85\":0,\"maccs_86\":0,\"maccs_87\":1,\"maccs_88\":0,\"maccs_89\":0,\"maccs_90\":0,\"maccs_91\":0,\"maccs_92\":0,\"maccs_93\":0,\"maccs_94\":1,\"maccs_95\":0,\"maccs_96\":0,\"maccs_97\":0,\"maccs_98\":0,\"maccs_99\":0,\"maccs_100\":0,\"maccs_101\":0,\"maccs_102\":1,\"maccs_103\":1,\"maccs_104\":0,\"maccs_105\":0,\"maccs_106\":0,\"maccs_107\":1,\"maccs_108\":0,\"maccs_109\":0,\"maccs_110\":0,\"maccs_111\":0,\"maccs_112\":0,\"maccs_113\":0,\"maccs_114\":0,\"maccs_115\":0,\"maccs_116\":0,\"maccs_117\":0,\"maccs_118\":0,\"maccs_119\":1,\"maccs_120\":0,\"maccs_121\":0,\"maccs_122\":1,\"maccs_123\":0,\"maccs_124\":1,\"maccs_125\":0,\"maccs_126\":0,\"maccs_127\":0,\"maccs_128\":0,\"maccs_129\":0,\"maccs_130\":1,\"maccs_131\":0,\"maccs_132\":0,\"maccs_133\":1,\"maccs_134\":1,\"maccs_135\":1,\"maccs_136\":0,\"maccs_137\":0,\"maccs_138\":0,\"maccs_139\":0,\"maccs_140\":0,\"maccs_141\":0,\"maccs_142\":0,\"maccs_143\":0,\"maccs_144\":0,\"maccs_145\":0,\"maccs_146\":0,\"maccs_147\":0,\"maccs_148\":1,\"maccs_149\":0,\"maccs_150\":0,\"maccs_151\":0,\"maccs_152\":0,\"maccs_153\":0,\"maccs_154\":0,\"maccs_155\":0,\"maccs_156\":1,\"maccs_157\":0,\"maccs_158\":1,\"maccs_159\":1,\"maccs_160\":0,\"maccs_161\":1,\"maccs_162\":1,\"maccs_163\":1,\"maccs_164\":1,\"maccs_165\":1,\"maccs_166\":0}'"
      ]
     },
     "execution_count": 111,
     "metadata": {},
     "output_type": "execute_result"
    }
   ],
   "source": [
    "smile_test_maccs"
   ]
  },
  {
   "cell_type": "code",
   "execution_count": 130,
   "metadata": {},
   "outputs": [
    {
     "data": {
      "text/plain": [
       "[0,\n",
       " 0,\n",
       " 0,\n",
       " 0,\n",
       " 0,\n",
       " 0,\n",
       " 0,\n",
       " 0,\n",
       " 0,\n",
       " 0,\n",
       " 0,\n",
       " 0,\n",
       " 0,\n",
       " 0,\n",
       " 0,\n",
       " 0,\n",
       " 0,\n",
       " 0,\n",
       " 0,\n",
       " 0,\n",
       " 0,\n",
       " 0,\n",
       " 0,\n",
       " 1,\n",
       " 0,\n",
       " 0,\n",
       " 0,\n",
       " 0,\n",
       " 0,\n",
       " 0,\n",
       " 0,\n",
       " 0,\n",
       " 0,\n",
       " 0,\n",
       " 0,\n",
       " 0,\n",
       " 0,\n",
       " 0,\n",
       " 0,\n",
       " 0,\n",
       " 0,\n",
       " 0,\n",
       " 0,\n",
       " 0,\n",
       " 0,\n",
       " 0,\n",
       " 0,\n",
       " 0,\n",
       " 1,\n",
       " 0,\n",
       " 0,\n",
       " 0,\n",
       " 0,\n",
       " 0,\n",
       " 0,\n",
       " 1,\n",
       " 0,\n",
       " 0,\n",
       " 0,\n",
       " 0,\n",
       " 0,\n",
       " 0,\n",
       " 1,\n",
       " 0,\n",
       " 0,\n",
       " 0,\n",
       " 0,\n",
       " 0,\n",
       " 0,\n",
       " 1,\n",
       " 1,\n",
       " 0,\n",
       " 0,\n",
       " 0,\n",
       " 0,\n",
       " 0,\n",
       " 0,\n",
       " 0,\n",
       " 0,\n",
       " 0,\n",
       " 0,\n",
       " 0,\n",
       " 0,\n",
       " 0,\n",
       " 0,\n",
       " 0,\n",
       " 1,\n",
       " 0,\n",
       " 0,\n",
       " 0,\n",
       " 0,\n",
       " 0,\n",
       " 0,\n",
       " 1,\n",
       " 0,\n",
       " 0,\n",
       " 0,\n",
       " 0,\n",
       " 0,\n",
       " 0,\n",
       " 0,\n",
       " 1,\n",
       " 1,\n",
       " 0,\n",
       " 0,\n",
       " 0,\n",
       " 1,\n",
       " 0,\n",
       " 0,\n",
       " 0,\n",
       " 0,\n",
       " 0,\n",
       " 0,\n",
       " 0,\n",
       " 0,\n",
       " 0,\n",
       " 0,\n",
       " 0,\n",
       " 1,\n",
       " 0,\n",
       " 0,\n",
       " 1,\n",
       " 0,\n",
       " 1,\n",
       " 0,\n",
       " 0,\n",
       " 0,\n",
       " 0,\n",
       " 0,\n",
       " 1,\n",
       " 0,\n",
       " 0,\n",
       " 1,\n",
       " 1,\n",
       " 1,\n",
       " 0,\n",
       " 0,\n",
       " 0,\n",
       " 0,\n",
       " 0,\n",
       " 0,\n",
       " 0,\n",
       " 0,\n",
       " 0,\n",
       " 0,\n",
       " 0,\n",
       " 0,\n",
       " 1,\n",
       " 0,\n",
       " 0,\n",
       " 0,\n",
       " 0,\n",
       " 0,\n",
       " 0,\n",
       " 0,\n",
       " 1,\n",
       " 0,\n",
       " 1,\n",
       " 1,\n",
       " 0,\n",
       " 1,\n",
       " 1,\n",
       " 1,\n",
       " 1,\n",
       " 1,\n",
       " 0]"
      ]
     },
     "execution_count": 130,
     "metadata": {},
     "output_type": "execute_result"
    }
   ],
   "source": [
    "# service test data\n",
    "smile_test_maccs_dict= json.loads(smile_test_maccs)\n",
    "del smile_test_maccs_dict['maccs_0']\n",
    "test_maccs_array_service= np.array([True if val==1 else False for val in list(smile_test_maccs_dict.values()) ])\n"
   ]
  },
  {
   "cell_type": "code",
   "execution_count": 131,
   "metadata": {},
   "outputs": [],
   "source": []
  },
  {
   "cell_type": "code",
   "execution_count": 123,
   "metadata": {},
   "outputs": [],
   "source": [
    "# ames test data\n",
    "test_maccs_array_ames= ames_maccs_smiles.iloc[:1,3:-1]\n",
    "test_maccs_array_ames = np.array(test_maccs_array_ames)[0]"
   ]
  },
  {
   "cell_type": "code",
   "execution_count": 136,
   "metadata": {},
   "outputs": [
    {
     "data": {
      "text/plain": [
       "array([False, False, False, False, False, False, False, False, False,\n",
       "       False, False, False, False, False, False, False, False, False,\n",
       "       False, False, False, False, False, False, False, False, False,\n",
       "       False, False, False, False, False, False, False, False, False,\n",
       "       False, False, False, False, False, False, False, False, False,\n",
       "       False, False, False, False, False, False, False, False, False,\n",
       "       False,  True, False, False, False, False, False, False,  True,\n",
       "       False, False, False, False, False, False,  True,  True, False,\n",
       "       False, False, False, False, False, False, False, False, False,\n",
       "       False, False, False, False, False,  True, False, False, False,\n",
       "       False, False, False,  True, False, False, False, False, False,\n",
       "       False, False,  True,  True, False, False, False,  True, False,\n",
       "       False, False, False, False, False, False, False, False, False,\n",
       "       False,  True, False, False,  True, False,  True, False, False,\n",
       "       False, False, False,  True, False, False,  True,  True,  True,\n",
       "        True, False, False, False, False, False, False, False, False,\n",
       "       False, False, False,  True, False, False, False, False, False,\n",
       "       False, False,  True, False,  True,  True, False,  True,  True,\n",
       "        True,  True,  True, False])"
      ]
     },
     "execution_count": 136,
     "metadata": {},
     "output_type": "execute_result"
    }
   ],
   "source": [
    "test_maccs_array_ames"
   ]
  },
  {
   "cell_type": "code",
   "execution_count": 135,
   "metadata": {},
   "outputs": [
    {
     "data": {
      "text/plain": [
       "array([False, False, False, False, False, False, False, False, False,\n",
       "       False, False, False, False, False, False, False, False, False,\n",
       "       False, False, False, False, False,  True, False, False, False,\n",
       "       False, False, False, False, False, False, False, False, False,\n",
       "       False, False, False, False, False, False, False, False, False,\n",
       "       False, False, False,  True, False, False, False, False, False,\n",
       "       False,  True, False, False, False, False, False, False,  True,\n",
       "       False, False, False, False, False, False,  True,  True, False,\n",
       "       False, False, False, False, False, False, False, False, False,\n",
       "       False, False, False, False, False,  True, False, False, False,\n",
       "       False, False, False,  True, False, False, False, False, False,\n",
       "       False, False,  True,  True, False, False, False,  True, False,\n",
       "       False, False, False, False, False, False, False, False, False,\n",
       "       False,  True, False, False,  True, False,  True, False, False,\n",
       "       False, False, False,  True, False, False,  True,  True,  True,\n",
       "       False, False, False, False, False, False, False, False, False,\n",
       "       False, False, False,  True, False, False, False, False, False,\n",
       "       False, False,  True, False,  True,  True, False,  True,  True,\n",
       "        True,  True,  True, False])"
      ]
     },
     "execution_count": 135,
     "metadata": {},
     "output_type": "execute_result"
    }
   ],
   "source": [
    "# compare\n",
    "test_maccs_array_service"
   ]
  },
  {
   "cell_type": "code",
   "execution_count": 58,
   "metadata": {},
   "outputs": [],
   "source": []
  },
  {
   "cell_type": "code",
   "execution_count": 115,
   "metadata": {},
   "outputs": [
    {
     "data": {
      "text/html": [
       "<div>\n",
       "<style scoped>\n",
       "    .dataframe tbody tr th:only-of-type {\n",
       "        vertical-align: middle;\n",
       "    }\n",
       "\n",
       "    .dataframe tbody tr th {\n",
       "        vertical-align: top;\n",
       "    }\n",
       "\n",
       "    .dataframe thead th {\n",
       "        text-align: right;\n",
       "    }\n",
       "</style>\n",
       "<table border=\"1\" class=\"dataframe\">\n",
       "  <thead>\n",
       "    <tr style=\"text-align: right;\">\n",
       "      <th></th>\n",
       "      <th>MACCSFP1</th>\n",
       "      <th>MACCSFP2</th>\n",
       "      <th>MACCSFP3</th>\n",
       "      <th>MACCSFP4</th>\n",
       "      <th>MACCSFP5</th>\n",
       "      <th>MACCSFP6</th>\n",
       "      <th>MACCSFP7</th>\n",
       "      <th>MACCSFP8</th>\n",
       "      <th>MACCSFP9</th>\n",
       "      <th>MACCSFP10</th>\n",
       "      <th>...</th>\n",
       "      <th>MACCSFP157</th>\n",
       "      <th>MACCSFP158</th>\n",
       "      <th>MACCSFP159</th>\n",
       "      <th>MACCSFP160</th>\n",
       "      <th>MACCSFP161</th>\n",
       "      <th>MACCSFP162</th>\n",
       "      <th>MACCSFP163</th>\n",
       "      <th>MACCSFP164</th>\n",
       "      <th>MACCSFP165</th>\n",
       "      <th>MACCSFP166</th>\n",
       "    </tr>\n",
       "  </thead>\n",
       "  <tbody>\n",
       "    <tr>\n",
       "      <th>0</th>\n",
       "      <td>False</td>\n",
       "      <td>False</td>\n",
       "      <td>False</td>\n",
       "      <td>False</td>\n",
       "      <td>False</td>\n",
       "      <td>False</td>\n",
       "      <td>False</td>\n",
       "      <td>False</td>\n",
       "      <td>False</td>\n",
       "      <td>False</td>\n",
       "      <td>...</td>\n",
       "      <td>False</td>\n",
       "      <td>True</td>\n",
       "      <td>True</td>\n",
       "      <td>False</td>\n",
       "      <td>True</td>\n",
       "      <td>True</td>\n",
       "      <td>True</td>\n",
       "      <td>True</td>\n",
       "      <td>True</td>\n",
       "      <td>False</td>\n",
       "    </tr>\n",
       "  </tbody>\n",
       "</table>\n",
       "<p>1 rows × 166 columns</p>\n",
       "</div>"
      ],
      "text/plain": [
       "   MACCSFP1  MACCSFP2  MACCSFP3  MACCSFP4  MACCSFP5  MACCSFP6  MACCSFP7  \\\n",
       "0     False     False     False     False     False     False     False   \n",
       "\n",
       "   MACCSFP8  MACCSFP9  MACCSFP10  ...  MACCSFP157  MACCSFP158  MACCSFP159  \\\n",
       "0     False     False      False  ...       False        True        True   \n",
       "\n",
       "   MACCSFP160  MACCSFP161  MACCSFP162  MACCSFP163  MACCSFP164  MACCSFP165  \\\n",
       "0       False        True        True        True        True        True   \n",
       "\n",
       "   MACCSFP166  \n",
       "0       False  \n",
       "\n",
       "[1 rows x 166 columns]"
      ]
     },
     "execution_count": 115,
     "metadata": {},
     "output_type": "execute_result"
    }
   ],
   "source": [
    "test_maccs_array_ames"
   ]
  },
  {
   "cell_type": "code",
   "execution_count": 74,
   "metadata": {},
   "outputs": [],
   "source": [
    "test_maccs_array_service= np.array([True if val==1 else False for val in list(json.loads(smile_test_maccs).values()) ])"
   ]
  },
  {
   "cell_type": "code",
   "execution_count": 77,
   "metadata": {},
   "outputs": [
    {
     "data": {
      "text/plain": [
       "167"
      ]
     },
     "execution_count": 77,
     "metadata": {},
     "output_type": "execute_result"
    }
   ],
   "source": [
    "len(list(test_maccs_array_service))"
   ]
  },
  {
   "cell_type": "code",
   "execution_count": 97,
   "metadata": {},
   "outputs": [],
   "source": [
    "mol= MolFromSmiles(ames_maccs_smiles.Smiles[0])\n",
    "maccs_fp= MACCSkeys.GenMACCSKeys(mol)  # # get maccs fingerprints\n",
    "maccs_fp_bits = list(maccs_fp) "
   ]
  },
  {
   "cell_type": "code",
   "execution_count": 98,
   "metadata": {},
   "outputs": [
    {
     "data": {
      "text/plain": [
       "167"
      ]
     },
     "execution_count": 98,
     "metadata": {},
     "output_type": "execute_result"
    }
   ],
   "source": [
    "len(maccs_fp_bits)"
   ]
  },
  {
   "cell_type": "code",
   "execution_count": 101,
   "metadata": {},
   "outputs": [
    {
     "data": {
      "text/plain": [
       "[0,\n",
       " 1,\n",
       " 2,\n",
       " 3,\n",
       " 4,\n",
       " 5,\n",
       " 6,\n",
       " 7,\n",
       " 8,\n",
       " 9,\n",
       " 10,\n",
       " 11,\n",
       " 12,\n",
       " 13,\n",
       " 14,\n",
       " 15,\n",
       " 16,\n",
       " 17,\n",
       " 18,\n",
       " 19,\n",
       " 20,\n",
       " 21,\n",
       " 22,\n",
       " 23,\n",
       " 24,\n",
       " 25,\n",
       " 26,\n",
       " 27,\n",
       " 28,\n",
       " 29,\n",
       " 30,\n",
       " 31,\n",
       " 32,\n",
       " 33,\n",
       " 34,\n",
       " 35,\n",
       " 36,\n",
       " 37,\n",
       " 38,\n",
       " 39,\n",
       " 40,\n",
       " 41,\n",
       " 42,\n",
       " 43,\n",
       " 44,\n",
       " 45,\n",
       " 46,\n",
       " 47,\n",
       " 48,\n",
       " 49,\n",
       " 50,\n",
       " 51,\n",
       " 52,\n",
       " 53,\n",
       " 54,\n",
       " 55,\n",
       " 56,\n",
       " 57,\n",
       " 58,\n",
       " 59,\n",
       " 60,\n",
       " 61,\n",
       " 62,\n",
       " 63,\n",
       " 64,\n",
       " 65,\n",
       " 66,\n",
       " 67,\n",
       " 68,\n",
       " 69,\n",
       " 70,\n",
       " 71,\n",
       " 72,\n",
       " 73,\n",
       " 74,\n",
       " 75,\n",
       " 76,\n",
       " 77,\n",
       " 78,\n",
       " 79,\n",
       " 80,\n",
       " 81,\n",
       " 82,\n",
       " 83,\n",
       " 84,\n",
       " 85,\n",
       " 86,\n",
       " 87,\n",
       " 88,\n",
       " 89,\n",
       " 90,\n",
       " 91,\n",
       " 92,\n",
       " 93,\n",
       " 94,\n",
       " 95,\n",
       " 96,\n",
       " 97,\n",
       " 98,\n",
       " 99,\n",
       " 100,\n",
       " 101,\n",
       " 102,\n",
       " 103,\n",
       " 104,\n",
       " 105,\n",
       " 106,\n",
       " 107,\n",
       " 108,\n",
       " 109,\n",
       " 110,\n",
       " 111,\n",
       " 112,\n",
       " 113,\n",
       " 114,\n",
       " 115,\n",
       " 116,\n",
       " 117,\n",
       " 118,\n",
       " 119,\n",
       " 120,\n",
       " 121,\n",
       " 122,\n",
       " 123,\n",
       " 124,\n",
       " 125,\n",
       " 126,\n",
       " 127,\n",
       " 128,\n",
       " 129,\n",
       " 130,\n",
       " 131,\n",
       " 132,\n",
       " 133,\n",
       " 134,\n",
       " 135,\n",
       " 136,\n",
       " 137,\n",
       " 138,\n",
       " 139,\n",
       " 140,\n",
       " 141,\n",
       " 142,\n",
       " 143,\n",
       " 144,\n",
       " 145,\n",
       " 146,\n",
       " 147,\n",
       " 148,\n",
       " 149,\n",
       " 150,\n",
       " 151,\n",
       " 152,\n",
       " 153,\n",
       " 154,\n",
       " 155,\n",
       " 156,\n",
       " 157,\n",
       " 158,\n",
       " 159,\n",
       " 160,\n",
       " 161,\n",
       " 162,\n",
       " 163,\n",
       " 164,\n",
       " 165]"
      ]
     },
     "execution_count": 101,
     "metadata": {},
     "output_type": "execute_result"
    }
   ],
   "source": [
    "list(range(166))"
   ]
  }
 ],
 "metadata": {
  "kernelspec": {
   "display_name": "Python 3.11.0 ('my-rdkit-env')",
   "language": "python",
   "name": "python3"
  },
  "language_info": {
   "codemirror_mode": {
    "name": "ipython",
    "version": 3
   },
   "file_extension": ".py",
   "mimetype": "text/x-python",
   "name": "python",
   "nbconvert_exporter": "python",
   "pygments_lexer": "ipython3",
   "version": "3.11.0"
  },
  "orig_nbformat": 4,
  "vscode": {
   "interpreter": {
    "hash": "1463b5b168da8d34cd8a6a4b56ce491930943ff3809a89a8b8927ba31d31576a"
   }
  }
 },
 "nbformat": 4,
 "nbformat_minor": 2
}
