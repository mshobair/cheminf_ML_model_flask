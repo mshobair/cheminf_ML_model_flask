{
 "cells": [
  {
   "cell_type": "markdown",
   "metadata": {},
   "source": [
    "# Generate MACCS train/test data, and fit balanced random forest model"
   ]
  },
  {
   "cell_type": "code",
   "execution_count": 3,
   "metadata": {},
   "outputs": [],
   "source": [
    "from imblearn.ensemble import BalancedRandomForestClassifier\n",
    "from sklearn.metrics import classification_report, balanced_accuracy_score"
   ]
  },
  {
   "cell_type": "code",
   "execution_count": 4,
   "metadata": {},
   "outputs": [],
   "source": [
    "import pandas as pd\n",
    "import numpy as np\n",
    "import json\n",
    "from rdkit.Chem import MolFromSmiles\n",
    "from rdkit.Chem import MACCSkeys\n",
    "import joblib"
   ]
  },
  {
   "cell_type": "code",
   "execution_count": 6,
   "metadata": {},
   "outputs": [],
   "source": [
    "# read ames data with SMILES\n",
    "ames_maccs_smiles= pd.read_csv('ames_maccs_smiles_df.csv')\n",
    "ames_maccs_smiles= ames_maccs_smiles.iloc[:,1:].set_index('casn')\n",
    "ames_maccs_smiles= ames_maccs_smiles[['bioactive', 'Smiles']]"
   ]
  },
  {
   "cell_type": "code",
   "execution_count": 7,
   "metadata": {},
   "outputs": [],
   "source": [
    "# read the test set\n",
    "testX= pd.read_csv('testX.csv')\n",
    "testX= testX.set_index('casrn')"
   ]
  },
  {
   "cell_type": "code",
   "execution_count": 137,
   "metadata": {},
   "outputs": [
    {
     "data": {
      "text/html": [
       "<div>\n",
       "<style scoped>\n",
       "    .dataframe tbody tr th:only-of-type {\n",
       "        vertical-align: middle;\n",
       "    }\n",
       "\n",
       "    .dataframe tbody tr th {\n",
       "        vertical-align: top;\n",
       "    }\n",
       "\n",
       "    .dataframe thead th {\n",
       "        text-align: right;\n",
       "    }\n",
       "</style>\n",
       "<table border=\"1\" class=\"dataframe\">\n",
       "  <thead>\n",
       "    <tr style=\"text-align: right;\">\n",
       "      <th></th>\n",
       "      <th>bioactive</th>\n",
       "      <th>Smiles</th>\n",
       "    </tr>\n",
       "    <tr>\n",
       "      <th>casn</th>\n",
       "      <th></th>\n",
       "      <th></th>\n",
       "    </tr>\n",
       "  </thead>\n",
       "  <tbody>\n",
       "    <tr>\n",
       "      <th>100-00-5</th>\n",
       "      <td>True</td>\n",
       "      <td>O=[N+]([O-])c1ccc(Cl)cc1</td>\n",
       "    </tr>\n",
       "    <tr>\n",
       "      <th>100-01-6</th>\n",
       "      <td>True</td>\n",
       "      <td>O=[N+]([O-])c1ccc(N)cc1</td>\n",
       "    </tr>\n",
       "    <tr>\n",
       "      <th>100-02-7</th>\n",
       "      <td>False</td>\n",
       "      <td>Oc1ccc([N+]([O-])=O)cc1</td>\n",
       "    </tr>\n",
       "    <tr>\n",
       "      <th>100-17-4</th>\n",
       "      <td>True</td>\n",
       "      <td>c1([N+]([O-])=O)ccc(OC)cc1</td>\n",
       "    </tr>\n",
       "    <tr>\n",
       "      <th>100-40-3</th>\n",
       "      <td>False</td>\n",
       "      <td>C=CC1CC=CCC1</td>\n",
       "    </tr>\n",
       "    <tr>\n",
       "      <th>...</th>\n",
       "      <td>...</td>\n",
       "      <td>...</td>\n",
       "    </tr>\n",
       "    <tr>\n",
       "      <th>99-59-2</th>\n",
       "      <td>True</td>\n",
       "      <td>O=[N+]([O-])c1ccc(OC)c(N)c1</td>\n",
       "    </tr>\n",
       "    <tr>\n",
       "      <th>99610-72-7</th>\n",
       "      <td>True</td>\n",
       "      <td>Oc1c(cc(cc1NCCO)[N+](=O)[O-])[N+](=O)[O-]</td>\n",
       "    </tr>\n",
       "    <tr>\n",
       "      <th>99788-75-7</th>\n",
       "      <td>True</td>\n",
       "      <td>OCC(CNc1c(C(=O)c(cccc2)c2C3=O)c3c(NCC(CO)O)cc1)O</td>\n",
       "    </tr>\n",
       "    <tr>\n",
       "      <th>999-81-5</th>\n",
       "      <td>False</td>\n",
       "      <td>C(CCl)[N+](C)(C)C.[Cl-]</td>\n",
       "    </tr>\n",
       "    <tr>\n",
       "      <th>99-99-0</th>\n",
       "      <td>False</td>\n",
       "      <td>c1c([N+]([O-])=O)ccc(C)c1</td>\n",
       "    </tr>\n",
       "  </tbody>\n",
       "</table>\n",
       "<p>704 rows × 2 columns</p>\n",
       "</div>"
      ],
      "text/plain": [
       "            bioactive                                            Smiles\n",
       "casn                                                                   \n",
       "100-00-5         True                          O=[N+]([O-])c1ccc(Cl)cc1\n",
       "100-01-6         True                           O=[N+]([O-])c1ccc(N)cc1\n",
       "100-02-7        False                           Oc1ccc([N+]([O-])=O)cc1\n",
       "100-17-4         True                        c1([N+]([O-])=O)ccc(OC)cc1\n",
       "100-40-3        False                                      C=CC1CC=CCC1\n",
       "...               ...                                               ...\n",
       "99-59-2          True                       O=[N+]([O-])c1ccc(OC)c(N)c1\n",
       "99610-72-7       True         Oc1c(cc(cc1NCCO)[N+](=O)[O-])[N+](=O)[O-]\n",
       "99788-75-7       True  OCC(CNc1c(C(=O)c(cccc2)c2C3=O)c3c(NCC(CO)O)cc1)O\n",
       "999-81-5        False                           C(CCl)[N+](C)(C)C.[Cl-]\n",
       "99-99-0         False                         c1c([N+]([O-])=O)ccc(C)c1\n",
       "\n",
       "[704 rows x 2 columns]"
      ]
     },
     "execution_count": 137,
     "metadata": {},
     "output_type": "execute_result"
    }
   ],
   "source": [
    "ames_maccs_smiles"
   ]
  },
  {
   "cell_type": "markdown",
   "metadata": {},
   "source": [
    "Generate MACCS"
   ]
  },
  {
   "cell_type": "code",
   "execution_count": 8,
   "metadata": {},
   "outputs": [],
   "source": [
    "def smiles_maccs(smiles_input: str) -> pd.DataFrame:\n",
    "    '''\n",
    "    description : function to calculate maccs keys from smiles\n",
    "    input: smiles\n",
    "    output: string of MACCS keys\n",
    "    '''\n",
    "\n",
    "    macc_bits = 167\n",
    "    maccs_fp_name = [f'maccs_{i}' for i in range(macc_bits)] # generate generic fingerprint names for maccs\n",
    "\n",
    "    mol= MolFromSmiles(smiles_input)  # generate mol objects from SMILE\n",
    "\n",
    "    maccs_fp= MACCSkeys.GenMACCSKeys(mol)  # # get maccs fingerprints\n",
    "    maccs_fp_bits = list(maccs_fp) \n",
    "\n",
    "    df_maccs = pd.DataFrame(data=[maccs_fp_bits]) # generate dataframe from maccs numeric bits\n",
    "    df_maccs.columns = maccs_fp_name # map descriptor names to the columns\n",
    "    # add Smiles column\n",
    "    df_maccs[['Smiles']]= smiles_input\n",
    "    \n",
    "    return(df_maccs)"
   ]
  },
  {
   "cell_type": "code",
   "execution_count": 10,
   "metadata": {},
   "outputs": [],
   "source": [
    "# generate MACCS\n",
    "ames_smiles_maccs_list= [smiles_maccs(smiles_input= smile_inst) for smile_inst in ames_maccs_smiles.Smiles]\n",
    "# join with original dataframe\n",
    "ames_maccs_df= pd.merge(pd.concat(ames_smiles_maccs_list), ames_maccs_smiles.reset_index(), on= \"Smiles\")"
   ]
  },
  {
   "cell_type": "code",
   "execution_count": 11,
   "metadata": {},
   "outputs": [],
   "source": [
    "ames_maccs_df= ames_maccs_df.set_index('casn')"
   ]
  },
  {
   "cell_type": "code",
   "execution_count": 12,
   "metadata": {},
   "outputs": [],
   "source": [
    "# set MACCS col_names\n",
    "macc_bits = 167\n",
    "maccs_fp_name = [f'maccs_{i}' for i in range(macc_bits)][1:] # generate generic fingerprint names for maccs"
   ]
  },
  {
   "cell_type": "markdown",
   "metadata": {},
   "source": [
    "Split the data"
   ]
  },
  {
   "cell_type": "code",
   "execution_count": 13,
   "metadata": {},
   "outputs": [],
   "source": [
    "train= ames_maccs_df[~ames_maccs_df.index.isin(testX.index)]\n",
    "test= ames_maccs_df[ames_maccs_df.index.isin(testX.index)]\n",
    "# separate features and targets\n",
    "trainX= train.filter(maccs_fp_name)\n",
    "trainy= train.filter(['bioactive'])\n",
    "testX= test.filter(maccs_fp_name)\n",
    "testy= test.filter(['bioactive'])"
   ]
  },
  {
   "cell_type": "markdown",
   "metadata": {},
   "source": [
    "Transfrom data to boolean"
   ]
  },
  {
   "cell_type": "code",
   "execution_count": 14,
   "metadata": {},
   "outputs": [],
   "source": [
    "trainX= trainX.astype(bool)\n",
    "trainy= trainy.astype(bool)\n",
    "testX= testX.astype(bool)\n",
    "testy= testy.astype(bool)\n"
   ]
  },
  {
   "cell_type": "markdown",
   "metadata": {},
   "source": [
    "Initialize balanced random forest model"
   ]
  },
  {
   "cell_type": "code",
   "execution_count": 68,
   "metadata": {},
   "outputs": [],
   "source": [
    "rf_bal_model= BalancedRandomForestClassifier(class_weight={0: 1, 1: 1.5}, max_depth=12,\n",
    "                                             max_features=120, min_samples_leaf=2,\n",
    "                                             n_estimators=200, random_state=0)"
   ]
  },
  {
   "cell_type": "code",
   "execution_count": null,
   "metadata": {},
   "outputs": [],
   "source": [
    "#rf_bal_model.fit(np.array(trainX), trainy.values.ravel())"
   ]
  },
  {
   "cell_type": "code",
   "execution_count": 16,
   "metadata": {},
   "outputs": [],
   "source": [
    "rf_bal_model_loaded= joblib.load('rf_bal_model.pkl')"
   ]
  },
  {
   "cell_type": "code",
   "execution_count": 34,
   "metadata": {},
   "outputs": [
    {
     "name": "stdout",
     "output_type": "stream",
     "text": [
      "0.9186521978454039\n"
     ]
    }
   ],
   "source": [
    "print(balanced_accuracy_score(np.array(trainy), rf_bal_model_loaded.predict(np.array(trainX))))"
   ]
  },
  {
   "cell_type": "code",
   "execution_count": 19,
   "metadata": {},
   "outputs": [
    {
     "name": "stdout",
     "output_type": "stream",
     "text": [
      "0.8992914979757085\n"
     ]
    }
   ],
   "source": [
    "print(balanced_accuracy_score(np.array(testy), rf_bal_model_loaded.predict(np.array(testX))))"
   ]
  },
  {
   "cell_type": "markdown",
   "metadata": {},
   "source": [
    "Persist the model in pkl format"
   ]
  },
  {
   "cell_type": "code",
   "execution_count": 81,
   "metadata": {},
   "outputs": [
    {
     "data": {
      "text/plain": [
       "['rf_bal_model.pkl']"
      ]
     },
     "execution_count": 81,
     "metadata": {},
     "output_type": "execute_result"
    }
   ],
   "source": [
    "joblib.dump(rf_bal_model, 'rf_bal_model.pkl')"
   ]
  },
  {
   "cell_type": "markdown",
   "metadata": {},
   "source": [
    "Load and use the model"
   ]
  },
  {
   "cell_type": "code",
   "execution_count": 18,
   "metadata": {},
   "outputs": [],
   "source": [
    "rf_bal_model_loaded= joblib.load('rf_bal_model.pkl')"
   ]
  },
  {
   "cell_type": "markdown",
   "metadata": {},
   "source": [
    "Generate MACCS features for model to consume"
   ]
  },
  {
   "cell_type": "code",
   "execution_count": 36,
   "metadata": {},
   "outputs": [],
   "source": [
    "def get_maccs_from_smiles(smiles_input: str) -> np.array:\n",
    "    '''\n",
    "    description : function to calculate maccs keys from smiles\n",
    "    input: smiles\n",
    "    output: string of MACCS keys\n",
    "    '''\n",
    "    mol= MolFromSmiles(smiles_input)  # generate mol objects from SMILE\n",
    "\n",
    "    maccs_fp= MACCSkeys.GenMACCSKeys(mol)  # # get maccs fingerprints\n",
    "    maccs_fp_array= np.array(list(\n",
    "        maccs_fp)[1:]) # removing the first bit which is always zero\n",
    "    maccs_fp_array_reshaped= maccs_fp_array.reshape(1,-1) # reshape to be accepted my model\n",
    "    return(maccs_fp_array_reshaped)"
   ]
  },
  {
   "cell_type": "code",
   "execution_count": 39,
   "metadata": {},
   "outputs": [
    {
     "data": {
      "text/plain": [
       "array([[0, 0, 0, 0, 0, 0, 0, 0, 0, 0, 0, 0, 0, 0, 0, 0, 0, 0, 0, 0, 0, 0,\n",
       "        0, 0, 0, 0, 0, 0, 0, 0, 0, 0, 0, 0, 0, 0, 0, 0, 0, 0, 0, 0, 0, 0,\n",
       "        0, 0, 0, 0, 0, 0, 0, 0, 0, 0, 0, 0, 0, 0, 0, 0, 0, 0, 0, 0, 0, 0,\n",
       "        0, 0, 0, 0, 0, 0, 0, 1, 0, 0, 0, 0, 0, 0, 0, 0, 0, 0, 0, 0, 0, 0,\n",
       "        0, 0, 0, 0, 0, 0, 0, 0, 0, 0, 0, 0, 0, 0, 0, 0, 0, 0, 0, 0, 0, 0,\n",
       "        0, 0, 0, 1, 0, 0, 0, 0, 0, 0, 0, 0, 0, 0, 0, 0, 0, 0, 0, 0, 0, 0,\n",
       "        0, 0, 0, 0, 0, 0, 0, 0, 0, 0, 0, 0, 0, 0, 0, 0, 1, 0, 0, 0, 0, 0,\n",
       "        1, 0, 0, 0, 0, 1, 0, 0, 0, 0, 0, 0]])"
      ]
     },
     "execution_count": 39,
     "metadata": {},
     "output_type": "execute_result"
    }
   ],
   "source": [
    "get_maccs_from_smiles(smiles_input= \"CCC\")"
   ]
  },
  {
   "cell_type": "markdown",
   "metadata": {},
   "source": [
    "Run a prediction"
   ]
  },
  {
   "cell_type": "code",
   "execution_count": 38,
   "metadata": {},
   "outputs": [
    {
     "data": {
      "text/plain": [
       "array([[0.86732095, 0.13267905]])"
      ]
     },
     "execution_count": 38,
     "metadata": {},
     "output_type": "execute_result"
    }
   ],
   "source": [
    "rf_bal_model_loaded.predict_proba(\n",
    "    get_maccs_from_smiles(smiles_input= \"CCC\"))"
   ]
  },
  {
   "cell_type": "code",
   "execution_count": 109,
   "metadata": {},
   "outputs": [
    {
     "data": {
      "text/plain": [
       "array([ True,  True,  True,  True,  True, False,  True, False,  True,\n",
       "       False, False,  True,  True,  True,  True, False,  True,  True,\n",
       "        True,  True,  True, False, False,  True,  True,  True, False,\n",
       "        True,  True,  True,  True,  True, False,  True,  True,  True,\n",
       "        True,  True,  True,  True, False, False, False,  True,  True,\n",
       "        True,  True, False,  True,  True,  True, False, False,  True,\n",
       "       False,  True,  True,  True,  True, False,  True,  True, False,\n",
       "        True,  True, False, False, False,  True,  True, False])"
      ]
     },
     "execution_count": 109,
     "metadata": {},
     "output_type": "execute_result"
    }
   ],
   "source": [
    "rf_bal_model_loaded.predict(np.array(testX))"
   ]
  },
  {
   "cell_type": "code",
   "execution_count": 41,
   "metadata": {},
   "outputs": [],
   "source": [
    "import requests\n",
    "\n",
    "url = 'http://137.183.11.247:5000/predict'"
   ]
  },
  {
   "cell_type": "code",
   "execution_count": 42,
   "metadata": {},
   "outputs": [],
   "source": [
    "r = requests.post(url)\n"
   ]
  },
  {
   "cell_type": "code",
   "execution_count": 43,
   "metadata": {},
   "outputs": [
    {
     "data": {
      "text/plain": [
       "<Response [500]>"
      ]
     },
     "execution_count": 43,
     "metadata": {},
     "output_type": "execute_result"
    }
   ],
   "source": [
    "r"
   ]
  },
  {
   "cell_type": "code",
   "execution_count": 44,
   "metadata": {},
   "outputs": [
    {
     "name": "stdout",
     "output_type": "stream",
     "text": [
      "b'<!doctype html>\\n<html lang=en>\\n  <head>\\n    <title>IndexError: list index out of range\\n // Werkzeug Debugger</title>\\n    <link rel=\"stylesheet\" href=\"?__debugger__=yes&amp;cmd=resource&amp;f=style.css\">\\n    <link rel=\"shortcut icon\"\\n        href=\"?__debugger__=yes&amp;cmd=resource&amp;f=console.png\">\\n    <script src=\"?__debugger__=yes&amp;cmd=resource&amp;f=debugger.js\"></script>\\n    <script>\\n      var CONSOLE_MODE = false,\\n          EVALEX = true,\\n          EVALEX_TRUSTED = false,\\n          SECRET = \"s3eZ7XQq0hEgK4JTuYhn\";\\n    </script>\\n  </head>\\n  <body style=\"background-color: #fff\">\\n    <div class=\"debugger\">\\n<h1>IndexError</h1>\\n<div class=\"detail\">\\n  <p class=\"errormsg\">IndexError: list index out of range\\n</p>\\n</div>\\n<h2 class=\"traceback\">Traceback <em>(most recent call last)</em></h2>\\n<div class=\"traceback\">\\n  <h3></h3>\\n  <ul><li><div class=\"frame\" id=\"frame-139913879582272\">\\n  <h4>File <cite class=\"filename\">\"/home/mahmoud/anaconda3/envs/my-rdkit-env/lib/python3.11/site-packages/flask/app.py\"</cite>,\\n      line <em class=\"line\">2548</em>,\\n      in <code class=\"function\">__call__</code></h4>\\n  <div class=\"source library\"><pre class=\"line before\"><span class=\"ws\">    </span>def __call__(self, environ: dict, start_response: t.Callable) -&gt; t.Any:</pre>\\n<pre class=\"line before\"><span class=\"ws\">        </span>&#34;&#34;&#34;The WSGI server calls the Flask application object as the</pre>\\n<pre class=\"line before\"><span class=\"ws\">        </span>WSGI application. This calls :meth:`wsgi_app`, which can be</pre>\\n<pre class=\"line before\"><span class=\"ws\">        </span>wrapped to apply middleware.</pre>\\n<pre class=\"line before\"><span class=\"ws\">        </span>&#34;&#34;&#34;</pre>\\n<pre class=\"line current\"><span class=\"ws\">        </span>return self.wsgi_app(environ, start_response)\\n<span class=\"ws\">        </span>       ^^^^^^^^^^^^^^^^^^^^^^^^^^^^^^^^^^^^^^</pre></div>\\n</div>\\n\\n<li><div class=\"frame\" id=\"frame-139913877150672\">\\n  <h4>File <cite class=\"filename\">\"/home/mahmoud/anaconda3/envs/my-rdkit-env/lib/python3.11/site-packages/flask/app.py\"</cite>,\\n      line <em class=\"line\">2528</em>,\\n      in <code class=\"function\">wsgi_app</code></h4>\\n  <div class=\"source library\"><pre class=\"line before\"><span class=\"ws\">            </span>try:</pre>\\n<pre class=\"line before\"><span class=\"ws\">                </span>ctx.push()</pre>\\n<pre class=\"line before\"><span class=\"ws\">                </span>response = self.full_dispatch_request()</pre>\\n<pre class=\"line before\"><span class=\"ws\">            </span>except Exception as e:</pre>\\n<pre class=\"line before\"><span class=\"ws\">                </span>error = e</pre>\\n<pre class=\"line current\"><span class=\"ws\">                </span>response = self.handle_exception(e)\\n<span class=\"ws\">                </span>           ^^^^^^^^^^^^^^^^^^^^^^^^</pre>\\n<pre class=\"line after\"><span class=\"ws\">            </span>except:  # noqa: B001</pre>\\n<pre class=\"line after\"><span class=\"ws\">                </span>error = sys.exc_info()[1]</pre>\\n<pre class=\"line after\"><span class=\"ws\">                </span>raise</pre>\\n<pre class=\"line after\"><span class=\"ws\">            </span>return response(environ, start_response)</pre>\\n<pre class=\"line after\"><span class=\"ws\">        </span>finally:</pre></div>\\n</div>\\n\\n<li><div class=\"frame\" id=\"frame-139913877150816\">\\n  <h4>File <cite class=\"filename\">\"/home/mahmoud/anaconda3/envs/my-rdkit-env/lib/python3.11/site-packages/flask/app.py\"</cite>,\\n      line <em class=\"line\">2525</em>,\\n      in <code class=\"function\">wsgi_app</code></h4>\\n  <div class=\"source library\"><pre class=\"line before\"><span class=\"ws\">        </span>ctx = self.request_context(environ)</pre>\\n<pre class=\"line before\"><span class=\"ws\">        </span>error: t.Optional[BaseException] = None</pre>\\n<pre class=\"line before\"><span class=\"ws\">        </span>try:</pre>\\n<pre class=\"line before\"><span class=\"ws\">            </span>try:</pre>\\n<pre class=\"line before\"><span class=\"ws\">                </span>ctx.push()</pre>\\n<pre class=\"line current\"><span class=\"ws\">                </span>response = self.full_dispatch_request()\\n<span class=\"ws\">                </span>           ^^^^^^^^^^^^^^^^^^^^^^^^^^^^</pre>\\n<pre class=\"line after\"><span class=\"ws\">            </span>except Exception as e:</pre>\\n<pre class=\"line after\"><span class=\"ws\">                </span>error = e</pre>\\n<pre class=\"line after\"><span class=\"ws\">                </span>response = self.handle_exception(e)</pre>\\n<pre class=\"line after\"><span class=\"ws\">            </span>except:  # noqa: B001</pre>\\n<pre class=\"line after\"><span class=\"ws\">                </span>error = sys.exc_info()[1]</pre></div>\\n</div>\\n\\n<li><div class=\"frame\" id=\"frame-139913877150960\">\\n  <h4>File <cite class=\"filename\">\"/home/mahmoud/anaconda3/envs/my-rdkit-env/lib/python3.11/site-packages/flask/app.py\"</cite>,\\n      line <em class=\"line\">1822</em>,\\n      in <code class=\"function\">full_dispatch_request</code></h4>\\n  <div class=\"source library\"><pre class=\"line before\"><span class=\"ws\">            </span>request_started.send(self)</pre>\\n<pre class=\"line before\"><span class=\"ws\">            </span>rv = self.preprocess_request()</pre>\\n<pre class=\"line before\"><span class=\"ws\">            </span>if rv is None:</pre>\\n<pre class=\"line before\"><span class=\"ws\">                </span>rv = self.dispatch_request()</pre>\\n<pre class=\"line before\"><span class=\"ws\">        </span>except Exception as e:</pre>\\n<pre class=\"line current\"><span class=\"ws\">            </span>rv = self.handle_user_exception(e)\\n<span class=\"ws\">            </span>     ^^^^^^^^^^^^^^^^^^^^^^^^^^^^^</pre>\\n<pre class=\"line after\"><span class=\"ws\">        </span>return self.finalize_request(rv)</pre>\\n<pre class=\"line after\"><span class=\"ws\"></span> </pre>\\n<pre class=\"line after\"><span class=\"ws\">    </span>def finalize_request(</pre>\\n<pre class=\"line after\"><span class=\"ws\">        </span>self,</pre>\\n<pre class=\"line after\"><span class=\"ws\">        </span>rv: t.Union[ft.ResponseReturnValue, HTTPException],</pre></div>\\n</div>\\n\\n<li><div class=\"frame\" id=\"frame-139913877151104\">\\n  <h4>File <cite class=\"filename\">\"/home/mahmoud/anaconda3/envs/my-rdkit-env/lib/python3.11/site-packages/flask/app.py\"</cite>,\\n      line <em class=\"line\">1820</em>,\\n      in <code class=\"function\">full_dispatch_request</code></h4>\\n  <div class=\"source library\"><pre class=\"line before\"><span class=\"ws\"></span> </pre>\\n<pre class=\"line before\"><span class=\"ws\">        </span>try:</pre>\\n<pre class=\"line before\"><span class=\"ws\">            </span>request_started.send(self)</pre>\\n<pre class=\"line before\"><span class=\"ws\">            </span>rv = self.preprocess_request()</pre>\\n<pre class=\"line before\"><span class=\"ws\">            </span>if rv is None:</pre>\\n<pre class=\"line current\"><span class=\"ws\">                </span>rv = self.dispatch_request()\\n<span class=\"ws\">                </span>     ^^^^^^^^^^^^^^^^^^^^^^^</pre>\\n<pre class=\"line after\"><span class=\"ws\">        </span>except Exception as e:</pre>\\n<pre class=\"line after\"><span class=\"ws\">            </span>rv = self.handle_user_exception(e)</pre>\\n<pre class=\"line after\"><span class=\"ws\">        </span>return self.finalize_request(rv)</pre>\\n<pre class=\"line after\"><span class=\"ws\"></span> </pre>\\n<pre class=\"line after\"><span class=\"ws\">    </span>def finalize_request(</pre></div>\\n</div>\\n\\n<li><div class=\"frame\" id=\"frame-139913877151248\">\\n  <h4>File <cite class=\"filename\">\"/home/mahmoud/anaconda3/envs/my-rdkit-env/lib/python3.11/site-packages/flask/app.py\"</cite>,\\n      line <em class=\"line\">1796</em>,\\n      in <code class=\"function\">dispatch_request</code></h4>\\n  <div class=\"source library\"><pre class=\"line before\"><span class=\"ws\">            </span>and req.method == &#34;OPTIONS&#34;</pre>\\n<pre class=\"line before\"><span class=\"ws\">        </span>):</pre>\\n<pre class=\"line before\"><span class=\"ws\">            </span>return self.make_default_options_response()</pre>\\n<pre class=\"line before\"><span class=\"ws\">        </span># otherwise dispatch to the handler for that endpoint</pre>\\n<pre class=\"line before\"><span class=\"ws\">        </span>view_args: t.Dict[str, t.Any] = req.view_args  # type: ignore[assignment]</pre>\\n<pre class=\"line current\"><span class=\"ws\">        </span>return self.ensure_sync(self.view_functions[rule.endpoint])(**view_args)\\n<span class=\"ws\">        </span>       ^^^^^^^^^^^^^^^^^^^^^^^^^^^^^^^^^^^^^^^^^^^^^^^^^^^^^^^^^^^^^^^^^</pre>\\n<pre class=\"line after\"><span class=\"ws\"></span> </pre>\\n<pre class=\"line after\"><span class=\"ws\">    </span>def full_dispatch_request(self) -&gt; Response:</pre>\\n<pre class=\"line after\"><span class=\"ws\">        </span>&#34;&#34;&#34;Dispatches the request and on top of that performs request</pre>\\n<pre class=\"line after\"><span class=\"ws\">        </span>pre and postprocessing as well as HTTP exception catching and</pre>\\n<pre class=\"line after\"><span class=\"ws\">        </span>error handling.</pre></div>\\n</div>\\n\\n<li><div class=\"frame\" id=\"frame-139913877151392\">\\n  <h4>File <cite class=\"filename\">\"/home/mahmoud/Documents/Projects/ames_ML/app.py\"</cite>,\\n      line <em class=\"line\">32</em>,\\n      in <code class=\"function\">predict</code></h4>\\n  <div class=\"source \"><pre class=\"line before\"><span class=\"ws\">    </span>return(maccs_fp_array_reshaped)</pre>\\n<pre class=\"line before\"><span class=\"ws\"></span> </pre>\\n<pre class=\"line before\"><span class=\"ws\"></span>@app.route(&#39;/predict&#39;,methods=[&#39;POST&#39;])</pre>\\n<pre class=\"line before\"><span class=\"ws\"></span>def predict():</pre>\\n<pre class=\"line before\"><span class=\"ws\"></span> </pre>\\n<pre class=\"line current\"><span class=\"ws\">    </span>smiles_input_str = [str(x) for x in request.form.values()][0]\\n<span class=\"ws\">    </span>                   ^^^^^^^^^^^^^^^^^^^^^^^^^^^^^^^^^^^^^^^^^^</pre>\\n<pre class=\"line after\"><span class=\"ws\"></span> </pre>\\n<pre class=\"line after\"><span class=\"ws\">    </span>prediction = model.predict_proba(</pre>\\n<pre class=\"line after\"><span class=\"ws\">        </span>get_maccs_from_smiles(smiles_input_str)</pre>\\n<pre class=\"line after\"><span class=\"ws\">    </span>)</pre>\\n<pre class=\"line after\"><span class=\"ws\">    </span># output formatting</pre></div>\\n</div>\\n</ul>\\n  <blockquote>IndexError: list index out of range\\n</blockquote>\\n</div>\\n\\n<div class=\"plain\">\\n    <p>\\n      This is the Copy/Paste friendly version of the traceback.\\n    </p>\\n    <textarea cols=\"50\" rows=\"10\" name=\"code\" readonly>Traceback (most recent call last):\\n  File &#34;/home/mahmoud/anaconda3/envs/my-rdkit-env/lib/python3.11/site-packages/flask/app.py&#34;, line 2548, in __call__\\n    return self.wsgi_app(environ, start_response)\\n           ^^^^^^^^^^^^^^^^^^^^^^^^^^^^^^^^^^^^^^\\n  File &#34;/home/mahmoud/anaconda3/envs/my-rdkit-env/lib/python3.11/site-packages/flask/app.py&#34;, line 2528, in wsgi_app\\n    response = self.handle_exception(e)\\n               ^^^^^^^^^^^^^^^^^^^^^^^^\\n  File &#34;/home/mahmoud/anaconda3/envs/my-rdkit-env/lib/python3.11/site-packages/flask/app.py&#34;, line 2525, in wsgi_app\\n    response = self.full_dispatch_request()\\n               ^^^^^^^^^^^^^^^^^^^^^^^^^^^^\\n  File &#34;/home/mahmoud/anaconda3/envs/my-rdkit-env/lib/python3.11/site-packages/flask/app.py&#34;, line 1822, in full_dispatch_request\\n    rv = self.handle_user_exception(e)\\n         ^^^^^^^^^^^^^^^^^^^^^^^^^^^^^\\n  File &#34;/home/mahmoud/anaconda3/envs/my-rdkit-env/lib/python3.11/site-packages/flask/app.py&#34;, line 1820, in full_dispatch_request\\n    rv = self.dispatch_request()\\n         ^^^^^^^^^^^^^^^^^^^^^^^\\n  File &#34;/home/mahmoud/anaconda3/envs/my-rdkit-env/lib/python3.11/site-packages/flask/app.py&#34;, line 1796, in dispatch_request\\n    return self.ensure_sync(self.view_functions[rule.endpoint])(**view_args)\\n           ^^^^^^^^^^^^^^^^^^^^^^^^^^^^^^^^^^^^^^^^^^^^^^^^^^^^^^^^^^^^^^^^^\\n  File &#34;/home/mahmoud/Documents/Projects/ames_ML/app.py&#34;, line 32, in predict\\n    smiles_input_str = [str(x) for x in request.form.values()][0]\\n                       ^^^^^^^^^^^^^^^^^^^^^^^^^^^^^^^^^^^^^^^^^^\\nIndexError: list index out of range\\n</textarea>\\n</div>\\n<div class=\"explanation\">\\n  The debugger caught an exception in your WSGI application.  You can now\\n  look at the traceback which led to the error.  <span class=\"nojavascript\">\\n  If you enable JavaScript you can also use additional features such as code\\n  execution (if the evalex feature is enabled), automatic pasting of the\\n  exceptions and much more.</span>\\n</div>\\n      <div class=\"footer\">\\n        Brought to you by <strong class=\"arthur\">DON\\'T PANIC</strong>, your\\n        friendly Werkzeug powered traceback interpreter.\\n      </div>\\n    </div>\\n\\n    <div class=\"pin-prompt\">\\n      <div class=\"inner\">\\n        <h3>Console Locked</h3>\\n        <p>\\n          The console is locked and needs to be unlocked by entering the PIN.\\n          You can find the PIN printed out on the standard output of your\\n          shell that runs the server.\\n        <form>\\n          <p>PIN:\\n            <input type=text name=pin size=14>\\n            <input type=submit name=btn value=\"Confirm Pin\">\\n        </form>\\n      </div>\\n    </div>\\n  </body>\\n</html>\\n\\n<!--\\n\\nTraceback (most recent call last):\\n  File \"/home/mahmoud/anaconda3/envs/my-rdkit-env/lib/python3.11/site-packages/flask/app.py\", line 2548, in __call__\\n    return self.wsgi_app(environ, start_response)\\n           ^^^^^^^^^^^^^^^^^^^^^^^^^^^^^^^^^^^^^^\\n  File \"/home/mahmoud/anaconda3/envs/my-rdkit-env/lib/python3.11/site-packages/flask/app.py\", line 2528, in wsgi_app\\n    response = self.handle_exception(e)\\n               ^^^^^^^^^^^^^^^^^^^^^^^^\\n  File \"/home/mahmoud/anaconda3/envs/my-rdkit-env/lib/python3.11/site-packages/flask/app.py\", line 2525, in wsgi_app\\n    response = self.full_dispatch_request()\\n               ^^^^^^^^^^^^^^^^^^^^^^^^^^^^\\n  File \"/home/mahmoud/anaconda3/envs/my-rdkit-env/lib/python3.11/site-packages/flask/app.py\", line 1822, in full_dispatch_request\\n    rv = self.handle_user_exception(e)\\n         ^^^^^^^^^^^^^^^^^^^^^^^^^^^^^\\n  File \"/home/mahmoud/anaconda3/envs/my-rdkit-env/lib/python3.11/site-packages/flask/app.py\", line 1820, in full_dispatch_request\\n    rv = self.dispatch_request()\\n         ^^^^^^^^^^^^^^^^^^^^^^^\\n  File \"/home/mahmoud/anaconda3/envs/my-rdkit-env/lib/python3.11/site-packages/flask/app.py\", line 1796, in dispatch_request\\n    return self.ensure_sync(self.view_functions[rule.endpoint])(**view_args)\\n           ^^^^^^^^^^^^^^^^^^^^^^^^^^^^^^^^^^^^^^^^^^^^^^^^^^^^^^^^^^^^^^^^^\\n  File \"/home/mahmoud/Documents/Projects/ames_ML/app.py\", line 32, in predict\\n    smiles_input_str = [str(x) for x in request.form.values()][0]\\n                       ^^^^^^^^^^^^^^^^^^^^^^^^^^^^^^^^^^^^^^^^^^\\nIndexError: list index out of range\\n\\n\\n-->\\n'\n"
     ]
    }
   ],
   "source": [
    "print(r.content)"
   ]
  }
 ],
 "metadata": {
  "kernelspec": {
   "display_name": "Python 3.11.0 ('my-rdkit-env')",
   "language": "python",
   "name": "python3"
  },
  "language_info": {
   "codemirror_mode": {
    "name": "ipython",
    "version": 3
   },
   "file_extension": ".py",
   "mimetype": "text/x-python",
   "name": "python",
   "nbconvert_exporter": "python",
   "pygments_lexer": "ipython3",
   "version": "3.11.0"
  },
  "orig_nbformat": 4,
  "vscode": {
   "interpreter": {
    "hash": "1463b5b168da8d34cd8a6a4b56ce491930943ff3809a89a8b8927ba31d31576a"
   }
  }
 },
 "nbformat": 4,
 "nbformat_minor": 2
}
